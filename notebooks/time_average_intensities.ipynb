{
 "cells": [
  {
   "cell_type": "markdown",
   "metadata": {},
   "source": [
    "# Time-average Synthesized EIS Intensities\n",
    "In this notebook, pull in intensity cubes ($N_x\\times N_y\\times N_{\\lambda}$) for a given simulation time interval, $t=7500-12500$ s, and average it. Then save these intensity cubes to be analyzed later."
   ]
  },
  {
   "cell_type": "code",
   "execution_count": 1,
   "metadata": {
    "collapsed": false
   },
   "outputs": [
    {
     "name": "stderr",
     "output_type": "stream",
     "text": [
      "/home/wtb2/anaconda3/envs/systematic-ar-study/lib/python3.5/site-packages/IPython/html.py:14: ShimWarning: The `IPython.html` package has been deprecated. You should import from `notebook` instead. `IPython.html.widgets` has moved to `ipywidgets`.\n",
      "  \"`IPython.html.widgets` has moved to `ipywidgets`.\", ShimWarning)\n",
      "WARNING: AstropyDeprecationWarning: astropy.utils.compat.odict.OrderedDict is now deprecated - import OrderedDict from the collections module instead [astropy.utils.compat.odict]\n",
      "/home/wtb2/anaconda3/envs/systematic-ar-study/lib/python3.5/site-packages/matplotlib/__init__.py:1401: UserWarning:  This call to matplotlib.use() has no effect\n",
      "because the backend has already been chosen;\n",
      "matplotlib.use() must be called *before* pylab, matplotlib.pyplot,\n",
      "or matplotlib.backends is imported for the first time.\n",
      "\n",
      "  warnings.warn(_use_error_msg)\n"
     ]
    }
   ],
   "source": [
    "import os\n",
    "\n",
    "from scipy.interpolate import interp1d,splev,splrep\n",
    "import numpy as np\n",
    "import astropy.units as u\n",
    "import astropy.constants as const\n",
    "\n",
    "from synthesizAR.instruments import InstrumentHinodeEIS\n",
    "from synthesizAR.util import EISCube"
   ]
  },
  {
   "cell_type": "code",
   "execution_count": 2,
   "metadata": {
    "collapsed": true
   },
   "outputs": [],
   "source": [
    "base1 = '/data/datadrive1/ar_forward_modeling/systematic_ar_study/noaa1109_tn{}'\n",
    "base2 = '/data/datadrive2/ar_viz/systematic_ar_study/noaa1109_tn{}/'"
   ]
  },
  {
   "cell_type": "code",
   "execution_count": 3,
   "metadata": {
    "collapsed": true
   },
   "outputs": [],
   "source": [
    "eis = InstrumentHinodeEIS([7.5e3,1.25e4]*u.s)"
   ]
  },
  {
   "cell_type": "code",
   "execution_count": 4,
   "metadata": {
    "collapsed": true
   },
   "outputs": [],
   "source": [
    "frequencies = [250,750,'750-ion',2500,5000]"
   ]
  },
  {
   "cell_type": "code",
   "execution_count": 5,
   "metadata": {
    "collapsed": true
   },
   "outputs": [],
   "source": [
    "time_averaged_intensity_cubes = {'{}'.format(freq):{chan['name']:None for chan in eis.channels} for freq in frequencies}"
   ]
  },
  {
   "cell_type": "markdown",
   "metadata": {},
   "source": [
    "Iterate over each time step and add intensity contribution from each timestep."
   ]
  },
  {
   "cell_type": "code",
   "execution_count": 6,
   "metadata": {
    "collapsed": false
   },
   "outputs": [
    {
     "name": "stdout",
     "output_type": "stream",
     "text": [
      "t_N = 250\n"
     ]
    },
    {
     "name": "stderr",
     "output_type": "stream",
     "text": [
      "WARNING: UnitsWarning: 'cm ct g(1/2) / (Angstrom erg(1/2) pix s2)' contains multiple slashes, which is discouraged by the FITS standard [astropy.units.format.generic]\n"
     ]
    },
    {
     "name": "stdout",
     "output_type": "stream",
     "text": [
      "channel = 170-210\n",
      "channel = 250-290\n",
      "t_N = 750\n",
      "channel = 170-210\n",
      "channel = 250-290\n",
      "t_N = 750-ion\n",
      "channel = 170-210\n",
      "channel = 250-290\n",
      "t_N = 2500\n",
      "channel = 170-210\n"
     ]
    },
    {
     "name": "stderr",
     "output_type": "stream",
     "text": [
      "WARNING: UnitsWarning: 'cm cm ct g(1/2) / (Angstrom cm erg(1/2) pix s2)' contains multiple slashes, which is discouraged by the FITS standard [astropy.units.format.generic]\n"
     ]
    },
    {
     "name": "stdout",
     "output_type": "stream",
     "text": [
      "channel = 250-290\n",
      "t_N = 5000\n",
      "channel = 170-210\n",
      "channel = 250-290\n"
     ]
    }
   ],
   "source": [
    "for freq in frequencies:\n",
    "    print('t_N = {}'.format(freq))\n",
    "    if type(freq) == int:\n",
    "        base = base1\n",
    "    else:\n",
    "        base = base2\n",
    "    for channel in eis.channels:\n",
    "        print('channel = {}'.format(channel['name']))\n",
    "        for i,t in enumerate(eis.observing_time):\n",
    "            path2file = os.path.join(base.format(freq),\n",
    "                                     'Hinode_EIS',channel['name'],\n",
    "                                     'map_t{:06d}.h5'.format(i+750))\n",
    "            if time_averaged_intensity_cubes['{}'.format(freq)][channel['name']] is None:\n",
    "                time_averaged_intensity_cubes['{}'.format(freq)][channel['name']] = EISCube(path2file)\n",
    "            else:\n",
    "                time_averaged_intensity_cubes['{}'.format(freq)][channel['name']] += EISCube(path2file)"
   ]
  },
  {
   "cell_type": "markdown",
   "metadata": {},
   "source": [
    "Convert to appropriate physical units and time-average."
   ]
  },
  {
   "cell_type": "code",
   "execution_count": 7,
   "metadata": {
    "collapsed": true
   },
   "outputs": [],
   "source": [
    "for freq in frequencies:\n",
    "    for channel in eis.channels:\n",
    "        tmp = time_averaged_intensity_cubes['{}'.format(freq)][channel['name']]\n",
    "        conversion = splev(tmp.wavelength.value,\n",
    "                           splrep(channel['response']['x'].value,channel['response']['y'].value))\n",
    "        conversion = conversion*channel['response']['y'].unit\n",
    "        conversion /= const.h.cgs*const.c.cgs/tmp.wavelength.to(u.cm)/u.photon\n",
    "        time_averaged_intensity_cubes['{}'.format(freq)][channel['name']] = tmp*(1./conversion)*(1./eis.observing_time.shape[0])"
   ]
  },
  {
   "cell_type": "markdown",
   "metadata": {},
   "source": [
    "Save the results."
   ]
  },
  {
   "cell_type": "code",
   "execution_count": 10,
   "metadata": {
    "collapsed": false
   },
   "outputs": [],
   "source": [
    "for freq in time_averaged_intensity_cubes.keys():\n",
    "    for channel in time_averaged_intensity_cubes[freq].keys():\n",
    "        time_averaged_intensity_cubes[freq][channel].save('../data/eis_intensity_{}_tn{}_t7500-12500.h5'.format(channel,freq))"
   ]
  },
  {
   "cell_type": "code",
   "execution_count": null,
   "metadata": {
    "collapsed": true
   },
   "outputs": [],
   "source": []
  }
 ],
 "metadata": {
  "kernelspec": {
   "display_name": "Python [conda env:systematic-ar-study]",
   "language": "python",
   "name": "conda-env-systematic-ar-study-py"
  },
  "language_info": {
   "codemirror_mode": {
    "name": "ipython",
    "version": 3
   },
   "file_extension": ".py",
   "mimetype": "text/x-python",
   "name": "python",
   "nbconvert_exporter": "python",
   "pygments_lexer": "ipython3",
   "version": "3.5.3"
  }
 },
 "nbformat": 4,
 "nbformat_minor": 2
}
